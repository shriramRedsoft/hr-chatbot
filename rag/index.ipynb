{
 "cells": [
  {
   "cell_type": "code",
   "execution_count": 7,
   "id": "471af751",
   "metadata": {},
   "outputs": [
    {
     "data": {
      "text/plain": [
       "[Document(id_='233eb1ca-e16f-4e40-8994-11a25a59e9e8', embedding=None, metadata={'file_path': 'f:\\\\redsoft-projects\\\\hr-chatbot\\\\rag\\\\..\\\\hrdata\\\\code_of_conduct.txt', 'file_name': 'code_of_conduct.txt', 'file_type': 'text/plain', 'file_size': 3440, 'creation_date': '2025-04-08', 'last_modified_date': '2025-04-08'}, excluded_embed_metadata_keys=['file_name', 'file_type', 'file_size', 'creation_date', 'last_modified_date', 'last_accessed_date'], excluded_llm_metadata_keys=['file_name', 'file_type', 'file_size', 'creation_date', 'last_modified_date', 'last_accessed_date'], relationships={}, metadata_template='{key}: {value}', metadata_separator='\\n', text_resource=MediaResource(embeddings=None, data=None, text='📄 Company Code of Conduct\\r\\nDocument Title: Code of Conduct\\r\\nApplies To: All Employees, Interns, Contractors, and Consultants\\r\\nEffective Date: January 1, 2025\\r\\nLast Reviewed: March 15, 2025\\r\\n\\r\\n🟦 1. Professionalism and Workplace Behavior\\r\\nEmployees are expected to maintain professionalism in behavior, language, and attire at all times.\\r\\n\\r\\nTreat colleagues, clients, and vendors with respect, courtesy, and fairness.\\r\\n\\r\\nBullying, harassment (including sexual harassment), and discrimination of any kind are strictly prohibited.\\r\\n\\r\\nAvoid gossiping, rumor-spreading, or actions that harm team morale.\\r\\n\\r\\n🟦 2. Integrity and Ethics\\r\\nAlways act with honesty and integrity, even when no one is watching.\\r\\n\\r\\nReport unethical behavior immediately to your manager or HR.\\r\\n\\r\\nBribes, kickbacks, or any form of unethical financial gain are grounds for termination.\\r\\n\\r\\nAvoid any conflict of interest—do not engage in activities that may harm the company’s reputation or create personal gain at the company’s expense.\\r\\n\\r\\n🟦 3. Confidentiality\\r\\nProtect all confidential, sensitive, and proprietary information.\\r\\n\\r\\nDo not share company data (e.g., strategy, client details, source code, financials) outside the organization without authorization.\\r\\n\\r\\nNDA (Non-Disclosure Agreement) must be adhered to even after resignation or termination.\\r\\n\\r\\n🟦 4. Equal Opportunity and Anti-Discrimination\\r\\nThe company is an Equal Opportunity Employer.\\r\\n\\r\\nWe do not discriminate based on race, religion, gender, age, disability, marital status, sexual orientation, or nationality.\\r\\n\\r\\nInclusive language and behavior is expected from all employees.\\r\\n\\r\\n🟦 5. Substance Abuse\\r\\nUse, possession, or distribution of illegal drugs or alcohol on company premises or during work hours is strictly prohibited.\\r\\n\\r\\nViolation may lead to immediate disciplinary action, including termination.\\r\\n\\r\\n🟦 6. Use of Company Assets\\r\\nUse company assets (laptops, phones, email, internet, etc.) only for work-related purposes.\\r\\n\\r\\nDo not install unauthorized software or share login credentials.\\r\\n\\r\\nEmployees are responsible for the care and return of all issued assets.\\r\\n\\r\\n🟦 7. Attendance and Punctuality\\r\\nEmployees are expected to maintain regular attendance and arrive on time.\\r\\n\\r\\nChronic tardiness or absenteeism without valid reason will result in disciplinary action.\\r\\n\\r\\n🟦 8. Dress Code\\r\\nSmart casuals from Monday to Thursday.\\r\\n\\r\\nFridays are casuals, as long as they are decent and workplace-appropriate.\\r\\n\\r\\nClient-facing employees must adhere to formal attire requirements.\\r\\n\\r\\n🟦 9. Social Media Usage\\r\\nDo not post confidential or sensitive company-related information on public platforms.\\r\\n\\r\\nPersonal opinions shared on social media must not misrepresent or harm the company.\\r\\n\\r\\nAvoid workplace photos in restricted areas or during internal meetings.\\r\\n\\r\\n🟦 10. Disciplinary Actions\\r\\nViolations of the Code of Conduct may result in:\\r\\n\\r\\nVerbal or written warning\\r\\n\\r\\nSuspension\\r\\n\\r\\nSalary deductions\\r\\n\\r\\nTermination of employment\\r\\n\\r\\nLegal action (for severe violations)\\r\\n\\r\\n🟦 11. Whistleblower Protection\\r\\nEmployees are encouraged to report violations without fear.\\r\\n\\r\\nAnonymous reporting can be done via ethics@company.com or through the Whistleblower Portal.\\r\\n\\r\\nRetaliation against whistleblowers is strictly prohibited.\\r\\n\\r\\n✅ Acknowledgment\\r\\nAll employees must read, understand, and acknowledge this policy at the time of joining and at each annual review.', path=None, url=None, mimetype=None), image_resource=None, audio_resource=None, video_resource=None, text_template='{metadata_str}\\n\\n{content}'),\n",
       " Document(id_='1bd24ac8-4424-4c98-833b-1bde8da0f10b', embedding=None, metadata={'file_path': 'f:\\\\redsoft-projects\\\\hr-chatbot\\\\rag\\\\..\\\\hrdata\\\\faqs.txt', 'file_name': 'faqs.txt', 'file_type': 'text/plain', 'file_size': 3329, 'creation_date': '2025-04-08', 'last_modified_date': '2025-04-08'}, excluded_embed_metadata_keys=['file_name', 'file_type', 'file_size', 'creation_date', 'last_modified_date', 'last_accessed_date'], excluded_llm_metadata_keys=['file_name', 'file_type', 'file_size', 'creation_date', 'last_modified_date', 'last_accessed_date'], relationships={}, metadata_template='{key}: {value}', metadata_separator='\\n', text_resource=MediaResource(embeddings=None, data=None, text='🔹 General Questions\\r\\nQ1. How do I check my leave balance?\\r\\nA: You can check your leave balance by logging into the HRMS portal and navigating to: Dashboard > Leave Summary.\\r\\n\\r\\nQ2. Whom should I contact for any HR-related issues?\\r\\nA: You can raise a query in the HRMS Helpdesk or email us at hr.support@company.com.\\r\\n\\r\\nQ3. Where can I find the latest company policies?\\r\\nA: All updated policies are available on the HR Portal > Documents > Company Policies section.\\r\\n\\r\\n🔹 Leave & Attendance\\r\\nQ4. How many annual leaves am I entitled to?\\r\\nA: All full-time employees are entitled to 20 annual paid leaves per calendar year.\\r\\n\\r\\nQ5. What is the process to apply for a sick leave?\\r\\nA: Go to HRMS > Leave > Apply Leave. Select “Sick Leave” as the type. If more than 2 days, upload a valid medical certificate.\\r\\n\\r\\nQ6. Can I club casual leave with annual leave?\\r\\nA: No, casual leave cannot be combined with any other type of leave.\\r\\n\\r\\nQ7. What happens if I forget to mark attendance?\\r\\nA: If you forget to check-in, the system will mark you absent. You can raise an attendance regularization request in HRMS.\\r\\n\\r\\n🔹 Payroll & Compensation\\r\\nQ8. When is the salary credited every month?\\r\\nA: Salaries are processed on the last working day of each month and credited by 1st or 2nd of the following month.\\r\\n\\r\\nQ9. How can I download my payslips?\\r\\nA: Login to HRMS > Payroll > Payslips. Select the month and click on Download PDF.\\r\\n\\r\\nQ10. My salary was less this month. Whom should I speak to?\\r\\nA: Please check for any LOP (Leave Without Pay) or unsubmitted timesheets. If you still have questions, email payroll@company.com.\\r\\n\\r\\nQ11. What is LOP?\\r\\nA: LOP stands for Leave Without Pay. It is applied when you take leave beyond your entitlement or fail to apply for it in time.\\r\\n\\r\\n🔹 Onboarding & Exit\\r\\nQ12. What documents do I need to upload during onboarding?\\r\\nA: Aadhar, PAN Card, Educational Certificates, Previous Employer’s Experience Letter, and Bank Account Details.\\r\\n\\r\\nQ13. What is the exit procedure?\\r\\nA: Submit your resignation on the HRMS. Post-approval, you’ll receive your full & final settlement details. IT asset return and clearance form are mandatory.\\r\\n\\r\\nQ14. When will I receive my relieving letter?\\r\\nA: Within 7 working days after your full & final settlement is processed.\\r\\n\\r\\n🔹 Work From Home / Remote Work\\r\\nQ15. Am I allowed to work from home?\\r\\nA: Yes, up to 2 days a week with prior approval from your reporting manager.\\r\\n\\r\\nQ16. What if I need to work remotely for personal reasons?\\r\\nA: You must raise a special request through HRMS and provide valid reasoning. Final approval rests with your department head and HR.\\r\\n\\r\\n🔹 Reimbursements & Travel\\r\\nQ17. How do I claim travel expenses?\\r\\nA: Upload the expense details and receipts in HRMS > Reimbursements > Travel. Your manager needs to approve it for processing.\\r\\n\\r\\nQ18. What is the reimbursement cycle?\\r\\nA: Reimbursement claims are processed every Friday. Approved claims are paid within 5-7 working days.\\r\\n\\r\\n🔹 Miscellaneous\\r\\nQ19. Can I refer someone for a job at the company?\\r\\nA: Absolutely! Use the Employee Referral Program on the Careers Portal. Successful referrals are eligible for cash rewards.\\r\\n\\r\\nQ20. How do I reset my HRMS password?\\r\\nA: Click “Forgot Password” on the HRMS login page. A reset link will be sent to your official email ID.', path=None, url=None, mimetype=None), image_resource=None, audio_resource=None, video_resource=None, text_template='{metadata_str}\\n\\n{content}')]"
      ]
     },
     "execution_count": 7,
     "metadata": {},
     "output_type": "execute_result"
    }
   ],
   "source": [
    "import os\n",
    "import glob\n",
    "from llama_index.core import SimpleDirectoryReader  # LlamaIndex's file loader\n",
    "\n",
    "# Define the folder path\n",
    "folder_path = \"../hrdata/\"\n",
    "\n",
    "# Load all `.txt` and `.pdf` files from the folder\n",
    "text_documents = SimpleDirectoryReader(folder_path, required_exts=[\".txt\", \".pdf\"]).load_data()\n",
    "\n",
    "# Display loaded documents\n",
    "text_documents[:2]"
   ]
  },
  {
   "cell_type": "code",
   "execution_count": 8,
   "id": "eb2e3dc0",
   "metadata": {},
   "outputs": [],
   "source": [
    "import os\n",
    "from dotenv import load_dotenv\n",
    "load_dotenv()\n",
    "\n",
    "os.environ['OPENAI_API_KEY'] = os.getenv('OPENAI_API_KEY')\n",
    "QDRANT_URL  = os.getenv('QDRANT_URL')\n",
    "QDRANT_API_KEY = os.getenv('QDRANT_API_KEY')"
   ]
  },
  {
   "cell_type": "code",
   "execution_count": 9,
   "id": "3b56c4f2",
   "metadata": {},
   "outputs": [
    {
     "data": {
      "text/plain": [
       "[TextNode(id_='a435a21f-df16-4371-a592-91fb98eb9150', embedding=None, metadata={'file_path': 'f:\\\\redsoft-projects\\\\hr-chatbot\\\\rag\\\\..\\\\hrdata\\\\code_of_conduct.txt', 'file_name': 'code_of_conduct.txt', 'file_type': 'text/plain', 'file_size': 3440, 'creation_date': '2025-04-08', 'last_modified_date': '2025-04-08', 'window': '📄 Company Code of Conduct\\r\\nDocument Title: Code of Conduct\\r\\nApplies To: All Employees, Interns, Contractors, and Consultants\\r\\nEffective Date: January 1, 2025\\r\\nLast Reviewed: March 15, 2025\\r\\n\\r\\n🟦 1.  Professionalism and Workplace Behavior\\r\\nEmployees are expected to maintain professionalism in behavior, language, and attire at all times.\\r\\n\\r\\n Treat colleagues, clients, and vendors with respect, courtesy, and fairness.\\r\\n\\r\\n Bullying, harassment (including sexual harassment), and discrimination of any kind are strictly prohibited.\\r\\n\\r\\n', 'original_text': '📄 Company Code of Conduct\\r\\nDocument Title: Code of Conduct\\r\\nApplies To: All Employees, Interns, Contractors, and Consultants\\r\\nEffective Date: January 1, 2025\\r\\nLast Reviewed: March 15, 2025\\r\\n\\r\\n🟦 1. '}, excluded_embed_metadata_keys=['file_name', 'file_type', 'file_size', 'creation_date', 'last_modified_date', 'last_accessed_date', 'window', 'original_text'], excluded_llm_metadata_keys=['file_name', 'file_type', 'file_size', 'creation_date', 'last_modified_date', 'last_accessed_date', 'window', 'original_text'], relationships={<NodeRelationship.SOURCE: '1'>: RelatedNodeInfo(node_id='233eb1ca-e16f-4e40-8994-11a25a59e9e8', node_type=<ObjectType.DOCUMENT: '4'>, metadata={'file_path': 'f:\\\\redsoft-projects\\\\hr-chatbot\\\\rag\\\\..\\\\hrdata\\\\code_of_conduct.txt', 'file_name': 'code_of_conduct.txt', 'file_type': 'text/plain', 'file_size': 3440, 'creation_date': '2025-04-08', 'last_modified_date': '2025-04-08'}, hash='2fb92bc47b73494a670cc8707d1d10cc264a726a7639a530a086a101f4883213'), <NodeRelationship.NEXT: '3'>: RelatedNodeInfo(node_id='5fad30f3-3a1f-46c4-a857-4541cba6e9cd', node_type=<ObjectType.TEXT: '1'>, metadata={'window': '📄 Company Code of Conduct\\r\\nDocument Title: Code of Conduct\\r\\nApplies To: All Employees, Interns, Contractors, and Consultants\\r\\nEffective Date: January 1, 2025\\r\\nLast Reviewed: March 15, 2025\\r\\n\\r\\n🟦 1.  Professionalism and Workplace Behavior\\r\\nEmployees are expected to maintain professionalism in behavior, language, and attire at all times.\\r\\n\\r\\n Treat colleagues, clients, and vendors with respect, courtesy, and fairness.\\r\\n\\r\\n Bullying, harassment (including sexual harassment), and discrimination of any kind are strictly prohibited.\\r\\n\\r\\n Avoid gossiping, rumor-spreading, or actions that harm team morale.\\r\\n\\r\\n', 'original_text': 'Professionalism and Workplace Behavior\\r\\nEmployees are expected to maintain professionalism in behavior, language, and attire at all times.\\r\\n\\r\\n'}, hash='c168c807bd878c865715b8fc527ee18144a8ed3406b53c513009c24ef76e4dd8')}, metadata_template='{key}: {value}', metadata_separator='\\n', text='📄 Company Code of Conduct\\r\\nDocument Title: Code of Conduct\\r\\nApplies To: All Employees, Interns, Contractors, and Consultants\\r\\nEffective Date: January 1, 2025\\r\\nLast Reviewed: March 15, 2025\\r\\n\\r\\n🟦 1. ', mimetype='text/plain', start_char_idx=0, end_char_idx=197, metadata_seperator='\\n', text_template='{metadata_str}\\n\\n{content}'),\n",
       " TextNode(id_='5fad30f3-3a1f-46c4-a857-4541cba6e9cd', embedding=None, metadata={'file_path': 'f:\\\\redsoft-projects\\\\hr-chatbot\\\\rag\\\\..\\\\hrdata\\\\code_of_conduct.txt', 'file_name': 'code_of_conduct.txt', 'file_type': 'text/plain', 'file_size': 3440, 'creation_date': '2025-04-08', 'last_modified_date': '2025-04-08', 'window': '📄 Company Code of Conduct\\r\\nDocument Title: Code of Conduct\\r\\nApplies To: All Employees, Interns, Contractors, and Consultants\\r\\nEffective Date: January 1, 2025\\r\\nLast Reviewed: March 15, 2025\\r\\n\\r\\n🟦 1.  Professionalism and Workplace Behavior\\r\\nEmployees are expected to maintain professionalism in behavior, language, and attire at all times.\\r\\n\\r\\n Treat colleagues, clients, and vendors with respect, courtesy, and fairness.\\r\\n\\r\\n Bullying, harassment (including sexual harassment), and discrimination of any kind are strictly prohibited.\\r\\n\\r\\n Avoid gossiping, rumor-spreading, or actions that harm team morale.\\r\\n\\r\\n', 'original_text': 'Professionalism and Workplace Behavior\\r\\nEmployees are expected to maintain professionalism in behavior, language, and attire at all times.\\r\\n\\r\\n'}, excluded_embed_metadata_keys=['file_name', 'file_type', 'file_size', 'creation_date', 'last_modified_date', 'last_accessed_date', 'window', 'original_text'], excluded_llm_metadata_keys=['file_name', 'file_type', 'file_size', 'creation_date', 'last_modified_date', 'last_accessed_date', 'window', 'original_text'], relationships={<NodeRelationship.SOURCE: '1'>: RelatedNodeInfo(node_id='233eb1ca-e16f-4e40-8994-11a25a59e9e8', node_type=<ObjectType.DOCUMENT: '4'>, metadata={'file_path': 'f:\\\\redsoft-projects\\\\hr-chatbot\\\\rag\\\\..\\\\hrdata\\\\code_of_conduct.txt', 'file_name': 'code_of_conduct.txt', 'file_type': 'text/plain', 'file_size': 3440, 'creation_date': '2025-04-08', 'last_modified_date': '2025-04-08'}, hash='2fb92bc47b73494a670cc8707d1d10cc264a726a7639a530a086a101f4883213'), <NodeRelationship.PREVIOUS: '2'>: RelatedNodeInfo(node_id='a435a21f-df16-4371-a592-91fb98eb9150', node_type=<ObjectType.TEXT: '1'>, metadata={'file_path': 'f:\\\\redsoft-projects\\\\hr-chatbot\\\\rag\\\\..\\\\hrdata\\\\code_of_conduct.txt', 'file_name': 'code_of_conduct.txt', 'file_type': 'text/plain', 'file_size': 3440, 'creation_date': '2025-04-08', 'last_modified_date': '2025-04-08', 'window': '📄 Company Code of Conduct\\r\\nDocument Title: Code of Conduct\\r\\nApplies To: All Employees, Interns, Contractors, and Consultants\\r\\nEffective Date: January 1, 2025\\r\\nLast Reviewed: March 15, 2025\\r\\n\\r\\n🟦 1.  Professionalism and Workplace Behavior\\r\\nEmployees are expected to maintain professionalism in behavior, language, and attire at all times.\\r\\n\\r\\n Treat colleagues, clients, and vendors with respect, courtesy, and fairness.\\r\\n\\r\\n Bullying, harassment (including sexual harassment), and discrimination of any kind are strictly prohibited.\\r\\n\\r\\n', 'original_text': '📄 Company Code of Conduct\\r\\nDocument Title: Code of Conduct\\r\\nApplies To: All Employees, Interns, Contractors, and Consultants\\r\\nEffective Date: January 1, 2025\\r\\nLast Reviewed: March 15, 2025\\r\\n\\r\\n🟦 1. '}, hash='2e11797d3f7485ac517be1b15a4ffd3ba69e1efe266d987db0447ff6e1b33b70'), <NodeRelationship.NEXT: '3'>: RelatedNodeInfo(node_id='40676c1c-fcf3-431d-8f7d-d560c5167190', node_type=<ObjectType.TEXT: '1'>, metadata={'window': '📄 Company Code of Conduct\\r\\nDocument Title: Code of Conduct\\r\\nApplies To: All Employees, Interns, Contractors, and Consultants\\r\\nEffective Date: January 1, 2025\\r\\nLast Reviewed: March 15, 2025\\r\\n\\r\\n🟦 1.  Professionalism and Workplace Behavior\\r\\nEmployees are expected to maintain professionalism in behavior, language, and attire at all times.\\r\\n\\r\\n Treat colleagues, clients, and vendors with respect, courtesy, and fairness.\\r\\n\\r\\n Bullying, harassment (including sexual harassment), and discrimination of any kind are strictly prohibited.\\r\\n\\r\\n Avoid gossiping, rumor-spreading, or actions that harm team morale.\\r\\n\\r\\n 🟦 2. ', 'original_text': 'Treat colleagues, clients, and vendors with respect, courtesy, and fairness.\\r\\n\\r\\n'}, hash='ddd758bb081c124bfd274f14156fa798f48b69abd1ea606f3b66a64739d9b3ce')}, metadata_template='{key}: {value}', metadata_separator='\\n', text='Professionalism and Workplace Behavior\\r\\nEmployees are expected to maintain professionalism in behavior, language, and attire at all times.\\r\\n\\r\\n', mimetype='text/plain', start_char_idx=197, end_char_idx=339, metadata_seperator='\\n', text_template='{metadata_str}\\n\\n{content}'),\n",
       " TextNode(id_='40676c1c-fcf3-431d-8f7d-d560c5167190', embedding=None, metadata={'file_path': 'f:\\\\redsoft-projects\\\\hr-chatbot\\\\rag\\\\..\\\\hrdata\\\\code_of_conduct.txt', 'file_name': 'code_of_conduct.txt', 'file_type': 'text/plain', 'file_size': 3440, 'creation_date': '2025-04-08', 'last_modified_date': '2025-04-08', 'window': '📄 Company Code of Conduct\\r\\nDocument Title: Code of Conduct\\r\\nApplies To: All Employees, Interns, Contractors, and Consultants\\r\\nEffective Date: January 1, 2025\\r\\nLast Reviewed: March 15, 2025\\r\\n\\r\\n🟦 1.  Professionalism and Workplace Behavior\\r\\nEmployees are expected to maintain professionalism in behavior, language, and attire at all times.\\r\\n\\r\\n Treat colleagues, clients, and vendors with respect, courtesy, and fairness.\\r\\n\\r\\n Bullying, harassment (including sexual harassment), and discrimination of any kind are strictly prohibited.\\r\\n\\r\\n Avoid gossiping, rumor-spreading, or actions that harm team morale.\\r\\n\\r\\n 🟦 2. ', 'original_text': 'Treat colleagues, clients, and vendors with respect, courtesy, and fairness.\\r\\n\\r\\n'}, excluded_embed_metadata_keys=['file_name', 'file_type', 'file_size', 'creation_date', 'last_modified_date', 'last_accessed_date', 'window', 'original_text'], excluded_llm_metadata_keys=['file_name', 'file_type', 'file_size', 'creation_date', 'last_modified_date', 'last_accessed_date', 'window', 'original_text'], relationships={<NodeRelationship.SOURCE: '1'>: RelatedNodeInfo(node_id='233eb1ca-e16f-4e40-8994-11a25a59e9e8', node_type=<ObjectType.DOCUMENT: '4'>, metadata={'file_path': 'f:\\\\redsoft-projects\\\\hr-chatbot\\\\rag\\\\..\\\\hrdata\\\\code_of_conduct.txt', 'file_name': 'code_of_conduct.txt', 'file_type': 'text/plain', 'file_size': 3440, 'creation_date': '2025-04-08', 'last_modified_date': '2025-04-08'}, hash='2fb92bc47b73494a670cc8707d1d10cc264a726a7639a530a086a101f4883213'), <NodeRelationship.PREVIOUS: '2'>: RelatedNodeInfo(node_id='5fad30f3-3a1f-46c4-a857-4541cba6e9cd', node_type=<ObjectType.TEXT: '1'>, metadata={'file_path': 'f:\\\\redsoft-projects\\\\hr-chatbot\\\\rag\\\\..\\\\hrdata\\\\code_of_conduct.txt', 'file_name': 'code_of_conduct.txt', 'file_type': 'text/plain', 'file_size': 3440, 'creation_date': '2025-04-08', 'last_modified_date': '2025-04-08', 'window': '📄 Company Code of Conduct\\r\\nDocument Title: Code of Conduct\\r\\nApplies To: All Employees, Interns, Contractors, and Consultants\\r\\nEffective Date: January 1, 2025\\r\\nLast Reviewed: March 15, 2025\\r\\n\\r\\n🟦 1.  Professionalism and Workplace Behavior\\r\\nEmployees are expected to maintain professionalism in behavior, language, and attire at all times.\\r\\n\\r\\n Treat colleagues, clients, and vendors with respect, courtesy, and fairness.\\r\\n\\r\\n Bullying, harassment (including sexual harassment), and discrimination of any kind are strictly prohibited.\\r\\n\\r\\n Avoid gossiping, rumor-spreading, or actions that harm team morale.\\r\\n\\r\\n', 'original_text': 'Professionalism and Workplace Behavior\\r\\nEmployees are expected to maintain professionalism in behavior, language, and attire at all times.\\r\\n\\r\\n'}, hash='6ccd7bc7ff8c7a74c57192a0e2d9c55fea4b8fdedca7f0b9cf1df47a3e0c7b21'), <NodeRelationship.NEXT: '3'>: RelatedNodeInfo(node_id='9b71cd4f-1e2e-422a-91ba-83fccd5ec017', node_type=<ObjectType.TEXT: '1'>, metadata={'window': '📄 Company Code of Conduct\\r\\nDocument Title: Code of Conduct\\r\\nApplies To: All Employees, Interns, Contractors, and Consultants\\r\\nEffective Date: January 1, 2025\\r\\nLast Reviewed: March 15, 2025\\r\\n\\r\\n🟦 1.  Professionalism and Workplace Behavior\\r\\nEmployees are expected to maintain professionalism in behavior, language, and attire at all times.\\r\\n\\r\\n Treat colleagues, clients, and vendors with respect, courtesy, and fairness.\\r\\n\\r\\n Bullying, harassment (including sexual harassment), and discrimination of any kind are strictly prohibited.\\r\\n\\r\\n Avoid gossiping, rumor-spreading, or actions that harm team morale.\\r\\n\\r\\n 🟦 2.  Integrity and Ethics\\r\\nAlways act with honesty and integrity, even when no one is watching.\\r\\n\\r\\n', 'original_text': 'Bullying, harassment (including sexual harassment), and discrimination of any kind are strictly prohibited.\\r\\n\\r\\n'}, hash='1ba5d741eb5d54402d5597749dd18835e0fe25e802b6603d13cc337a76c963a5')}, metadata_template='{key}: {value}', metadata_separator='\\n', text='Treat colleagues, clients, and vendors with respect, courtesy, and fairness.\\r\\n\\r\\n', mimetype='text/plain', start_char_idx=339, end_char_idx=419, metadata_seperator='\\n', text_template='{metadata_str}\\n\\n{content}'),\n",
       " TextNode(id_='9b71cd4f-1e2e-422a-91ba-83fccd5ec017', embedding=None, metadata={'file_path': 'f:\\\\redsoft-projects\\\\hr-chatbot\\\\rag\\\\..\\\\hrdata\\\\code_of_conduct.txt', 'file_name': 'code_of_conduct.txt', 'file_type': 'text/plain', 'file_size': 3440, 'creation_date': '2025-04-08', 'last_modified_date': '2025-04-08', 'window': '📄 Company Code of Conduct\\r\\nDocument Title: Code of Conduct\\r\\nApplies To: All Employees, Interns, Contractors, and Consultants\\r\\nEffective Date: January 1, 2025\\r\\nLast Reviewed: March 15, 2025\\r\\n\\r\\n🟦 1.  Professionalism and Workplace Behavior\\r\\nEmployees are expected to maintain professionalism in behavior, language, and attire at all times.\\r\\n\\r\\n Treat colleagues, clients, and vendors with respect, courtesy, and fairness.\\r\\n\\r\\n Bullying, harassment (including sexual harassment), and discrimination of any kind are strictly prohibited.\\r\\n\\r\\n Avoid gossiping, rumor-spreading, or actions that harm team morale.\\r\\n\\r\\n 🟦 2.  Integrity and Ethics\\r\\nAlways act with honesty and integrity, even when no one is watching.\\r\\n\\r\\n', 'original_text': 'Bullying, harassment (including sexual harassment), and discrimination of any kind are strictly prohibited.\\r\\n\\r\\n'}, excluded_embed_metadata_keys=['file_name', 'file_type', 'file_size', 'creation_date', 'last_modified_date', 'last_accessed_date', 'window', 'original_text'], excluded_llm_metadata_keys=['file_name', 'file_type', 'file_size', 'creation_date', 'last_modified_date', 'last_accessed_date', 'window', 'original_text'], relationships={<NodeRelationship.SOURCE: '1'>: RelatedNodeInfo(node_id='233eb1ca-e16f-4e40-8994-11a25a59e9e8', node_type=<ObjectType.DOCUMENT: '4'>, metadata={'file_path': 'f:\\\\redsoft-projects\\\\hr-chatbot\\\\rag\\\\..\\\\hrdata\\\\code_of_conduct.txt', 'file_name': 'code_of_conduct.txt', 'file_type': 'text/plain', 'file_size': 3440, 'creation_date': '2025-04-08', 'last_modified_date': '2025-04-08'}, hash='2fb92bc47b73494a670cc8707d1d10cc264a726a7639a530a086a101f4883213'), <NodeRelationship.PREVIOUS: '2'>: RelatedNodeInfo(node_id='40676c1c-fcf3-431d-8f7d-d560c5167190', node_type=<ObjectType.TEXT: '1'>, metadata={'file_path': 'f:\\\\redsoft-projects\\\\hr-chatbot\\\\rag\\\\..\\\\hrdata\\\\code_of_conduct.txt', 'file_name': 'code_of_conduct.txt', 'file_type': 'text/plain', 'file_size': 3440, 'creation_date': '2025-04-08', 'last_modified_date': '2025-04-08', 'window': '📄 Company Code of Conduct\\r\\nDocument Title: Code of Conduct\\r\\nApplies To: All Employees, Interns, Contractors, and Consultants\\r\\nEffective Date: January 1, 2025\\r\\nLast Reviewed: March 15, 2025\\r\\n\\r\\n🟦 1.  Professionalism and Workplace Behavior\\r\\nEmployees are expected to maintain professionalism in behavior, language, and attire at all times.\\r\\n\\r\\n Treat colleagues, clients, and vendors with respect, courtesy, and fairness.\\r\\n\\r\\n Bullying, harassment (including sexual harassment), and discrimination of any kind are strictly prohibited.\\r\\n\\r\\n Avoid gossiping, rumor-spreading, or actions that harm team morale.\\r\\n\\r\\n 🟦 2. ', 'original_text': 'Treat colleagues, clients, and vendors with respect, courtesy, and fairness.\\r\\n\\r\\n'}, hash='68f87818a62865cff2d775e1352f487608997135d6d63af2d3edf23a04c2f68c'), <NodeRelationship.NEXT: '3'>: RelatedNodeInfo(node_id='9608d322-7cb6-4145-89fb-f990be8bb4b2', node_type=<ObjectType.TEXT: '1'>, metadata={'window': 'Professionalism and Workplace Behavior\\r\\nEmployees are expected to maintain professionalism in behavior, language, and attire at all times.\\r\\n\\r\\n Treat colleagues, clients, and vendors with respect, courtesy, and fairness.\\r\\n\\r\\n Bullying, harassment (including sexual harassment), and discrimination of any kind are strictly prohibited.\\r\\n\\r\\n Avoid gossiping, rumor-spreading, or actions that harm team morale.\\r\\n\\r\\n 🟦 2.  Integrity and Ethics\\r\\nAlways act with honesty and integrity, even when no one is watching.\\r\\n\\r\\n Report unethical behavior immediately to your manager or HR.\\r\\n\\r\\n', 'original_text': 'Avoid gossiping, rumor-spreading, or actions that harm team morale.\\r\\n\\r\\n'}, hash='11df3fc5c713c6a08947b3ac962e6ea3bb2d36509d724a13c964d75464d3efd0')}, metadata_template='{key}: {value}', metadata_separator='\\n', text='Bullying, harassment (including sexual harassment), and discrimination of any kind are strictly prohibited.\\r\\n\\r\\n', mimetype='text/plain', start_char_idx=419, end_char_idx=530, metadata_seperator='\\n', text_template='{metadata_str}\\n\\n{content}'),\n",
       " TextNode(id_='9608d322-7cb6-4145-89fb-f990be8bb4b2', embedding=None, metadata={'file_path': 'f:\\\\redsoft-projects\\\\hr-chatbot\\\\rag\\\\..\\\\hrdata\\\\code_of_conduct.txt', 'file_name': 'code_of_conduct.txt', 'file_type': 'text/plain', 'file_size': 3440, 'creation_date': '2025-04-08', 'last_modified_date': '2025-04-08', 'window': 'Professionalism and Workplace Behavior\\r\\nEmployees are expected to maintain professionalism in behavior, language, and attire at all times.\\r\\n\\r\\n Treat colleagues, clients, and vendors with respect, courtesy, and fairness.\\r\\n\\r\\n Bullying, harassment (including sexual harassment), and discrimination of any kind are strictly prohibited.\\r\\n\\r\\n Avoid gossiping, rumor-spreading, or actions that harm team morale.\\r\\n\\r\\n 🟦 2.  Integrity and Ethics\\r\\nAlways act with honesty and integrity, even when no one is watching.\\r\\n\\r\\n Report unethical behavior immediately to your manager or HR.\\r\\n\\r\\n', 'original_text': 'Avoid gossiping, rumor-spreading, or actions that harm team morale.\\r\\n\\r\\n'}, excluded_embed_metadata_keys=['file_name', 'file_type', 'file_size', 'creation_date', 'last_modified_date', 'last_accessed_date', 'window', 'original_text'], excluded_llm_metadata_keys=['file_name', 'file_type', 'file_size', 'creation_date', 'last_modified_date', 'last_accessed_date', 'window', 'original_text'], relationships={<NodeRelationship.SOURCE: '1'>: RelatedNodeInfo(node_id='233eb1ca-e16f-4e40-8994-11a25a59e9e8', node_type=<ObjectType.DOCUMENT: '4'>, metadata={'file_path': 'f:\\\\redsoft-projects\\\\hr-chatbot\\\\rag\\\\..\\\\hrdata\\\\code_of_conduct.txt', 'file_name': 'code_of_conduct.txt', 'file_type': 'text/plain', 'file_size': 3440, 'creation_date': '2025-04-08', 'last_modified_date': '2025-04-08'}, hash='2fb92bc47b73494a670cc8707d1d10cc264a726a7639a530a086a101f4883213'), <NodeRelationship.PREVIOUS: '2'>: RelatedNodeInfo(node_id='9b71cd4f-1e2e-422a-91ba-83fccd5ec017', node_type=<ObjectType.TEXT: '1'>, metadata={'file_path': 'f:\\\\redsoft-projects\\\\hr-chatbot\\\\rag\\\\..\\\\hrdata\\\\code_of_conduct.txt', 'file_name': 'code_of_conduct.txt', 'file_type': 'text/plain', 'file_size': 3440, 'creation_date': '2025-04-08', 'last_modified_date': '2025-04-08', 'window': '📄 Company Code of Conduct\\r\\nDocument Title: Code of Conduct\\r\\nApplies To: All Employees, Interns, Contractors, and Consultants\\r\\nEffective Date: January 1, 2025\\r\\nLast Reviewed: March 15, 2025\\r\\n\\r\\n🟦 1.  Professionalism and Workplace Behavior\\r\\nEmployees are expected to maintain professionalism in behavior, language, and attire at all times.\\r\\n\\r\\n Treat colleagues, clients, and vendors with respect, courtesy, and fairness.\\r\\n\\r\\n Bullying, harassment (including sexual harassment), and discrimination of any kind are strictly prohibited.\\r\\n\\r\\n Avoid gossiping, rumor-spreading, or actions that harm team morale.\\r\\n\\r\\n 🟦 2.  Integrity and Ethics\\r\\nAlways act with honesty and integrity, even when no one is watching.\\r\\n\\r\\n', 'original_text': 'Bullying, harassment (including sexual harassment), and discrimination of any kind are strictly prohibited.\\r\\n\\r\\n'}, hash='b12536b8e96f83f6146bb6b1fc037bb86804f0c7aeff39a019b3ee4ead2fb58d'), <NodeRelationship.NEXT: '3'>: RelatedNodeInfo(node_id='e772bc11-f44e-4b01-b1fe-9c5cff71676a', node_type=<ObjectType.TEXT: '1'>, metadata={'window': 'Treat colleagues, clients, and vendors with respect, courtesy, and fairness.\\r\\n\\r\\n Bullying, harassment (including sexual harassment), and discrimination of any kind are strictly prohibited.\\r\\n\\r\\n Avoid gossiping, rumor-spreading, or actions that harm team morale.\\r\\n\\r\\n 🟦 2.  Integrity and Ethics\\r\\nAlways act with honesty and integrity, even when no one is watching.\\r\\n\\r\\n Report unethical behavior immediately to your manager or HR.\\r\\n\\r\\n Bribes, kickbacks, or any form of unethical financial gain are grounds for termination.\\r\\n\\r\\n', 'original_text': '🟦 2. '}, hash='2f58fdd1b576332b7f9d2f778bcc69d960087989a03fd00c86bfde4f8c893353')}, metadata_template='{key}: {value}', metadata_separator='\\n', text='Avoid gossiping, rumor-spreading, or actions that harm team morale.\\r\\n\\r\\n', mimetype='text/plain', start_char_idx=530, end_char_idx=601, metadata_seperator='\\n', text_template='{metadata_str}\\n\\n{content}')]"
      ]
     },
     "execution_count": 9,
     "metadata": {},
     "output_type": "execute_result"
    }
   ],
   "source": [
    "from llama_index.core.node_parser import SentenceWindowNodeParser  # LlamaIndex text splitter\n",
    "\n",
    "# Define text splitter (similar to RecursiveCharacterTextSplitter)\n",
    "text_splitter = SentenceWindowNodeParser.from_defaults( \n",
    "    window_size=3,\n",
    "    window_metadata_key=\"window\",\n",
    "    original_text_metadata_key=\"original_text\",\n",
    ")  \n",
    "\n",
    "# Split the documents\n",
    "split_documents = text_splitter.get_nodes_from_documents(text_documents)\n",
    "\n",
    "# Display split documents\n",
    "split_documents[:5]\n"
   ]
  },
  {
   "cell_type": "code",
   "execution_count": 10,
   "id": "5de9d549",
   "metadata": {},
   "outputs": [
    {
     "name": "stdout",
     "output_type": "stream",
     "text": [
      "Collection 'hr_docs' not found. Creating new index...\n",
      "Qdrant is ready for querying!\n"
     ]
    }
   ],
   "source": [
    "\n",
    "import os\n",
    "from dotenv import load_dotenv\n",
    "from qdrant_client import QdrantClient\n",
    "from llama_index.vector_stores.qdrant import QdrantVectorStore\n",
    "from llama_index.core import StorageContext, VectorStoreIndex, load_index_from_storage\n",
    "from llama_index.embeddings.openai import OpenAIEmbedding\n",
    "\n",
    "load_dotenv()\n",
    "QDRANT_URL = os.getenv(\"QDRANT_URL\")\n",
    "QDRANT_API_KEY = os.getenv(\"QDRANT_API_KEY\")\n",
    "\n",
    "if not QDRANT_URL:\n",
    "    raise ValueError(\"QDRANT_URL is missing. Check your .env file.\")\n",
    "\n",
    "qdrant_client = QdrantClient(url=QDRANT_URL, api_key=QDRANT_API_KEY)\n",
    "\n",
    "COLLECTION_NAME = \"hr_docs\"\n",
    "\n",
    "vector_store = QdrantVectorStore(client=qdrant_client, collection_name=COLLECTION_NAME)\n",
    "\n",
    "storage_context = StorageContext.from_defaults(vector_store=vector_store)\n",
    "\n",
    "embedding_model = OpenAIEmbedding() \n",
    "\n",
    "collections = qdrant_client.get_collections()\n",
    "collection_names = [col.name for col in collections.collections]\n",
    "\n",
    "if COLLECTION_NAME in collection_names:\n",
    "    # If collection exists, load the index\n",
    "    print(f\"Collection '{COLLECTION_NAME}' found in Qdrant. Loading existing data...\")\n",
    "    # index = load_index_from_storage(storage_context, embed_model=embedding_model)\n",
    "    index = VectorStoreIndex.from_vector_store(vector_store, embed_model=embedding_model)\n",
    "else:\n",
    "    #  If collection doesn't exist, create index & store documents \n",
    "    print(f\"Collection '{COLLECTION_NAME}' not found. Creating new index...\")\n",
    "    index = VectorStoreIndex.from_documents(text_documents, storage_context=storage_context, embed_model=embedding_model)\n",
    "    index.storage_context.persist()\n",
    "\n",
    "print(\"Qdrant is ready for querying!\")\n"
   ]
  },
  {
   "cell_type": "code",
   "execution_count": 11,
   "id": "1165f019",
   "metadata": {},
   "outputs": [
    {
     "name": "stdout",
     "output_type": "stream",
     "text": [
      "During probation, the notice period is 15 days or payment in lieu of notice.\n"
     ]
    }
   ],
   "source": [
    "# Assuming `index` is already initialized from previous code\n",
    "\n",
    "def query_qdrant(query: str):\n",
    "    \"\"\"Query the Qdrant database and return the response.\"\"\"\n",
    "    query_engine = index.as_query_engine()\n",
    "    response = query_engine.query(query)\n",
    "    return response\n",
    "\n",
    "# Example usage:\n",
    "query = \"What is notice period during probation?\"\n",
    "result = query_qdrant(query)\n",
    "print(result)  \n"
   ]
  }
 ],
 "metadata": {
  "kernelspec": {
   "display_name": "venv",
   "language": "python",
   "name": "python3"
  },
  "language_info": {
   "codemirror_mode": {
    "name": "ipython",
    "version": 3
   },
   "file_extension": ".py",
   "mimetype": "text/x-python",
   "name": "python",
   "nbconvert_exporter": "python",
   "pygments_lexer": "ipython3",
   "version": "3.11.9"
  }
 },
 "nbformat": 4,
 "nbformat_minor": 5
}
